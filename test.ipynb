{
 "cells": [
  {
   "cell_type": "code",
   "execution_count": 1,
   "metadata": {},
   "outputs": [],
   "source": [
    "import cv2 as cv\n",
    "import pytesseract\n",
    "import matplotlib.pyplot as plt"
   ]
  },
  {
   "cell_type": "code",
   "execution_count": 2,
   "metadata": {},
   "outputs": [],
   "source": [
    "pytesseract.pytesseract.tesseract_cmd = r'C:\\Users\\giova\\AppData\\Local\\Tesseract-OCR\\tesseract.exe'"
   ]
  },
  {
   "cell_type": "markdown",
   "metadata": {},
   "source": [
    "#### Com pre-processamento"
   ]
  },
  {
   "cell_type": "code",
   "execution_count": 3,
   "metadata": {},
   "outputs": [],
   "source": [
    "def ocr_core(img):\n",
    "    myconfig = r\"--psm 6\"\n",
    "    text = pytesseract.image_to_string(img, config=myconfig, lang='eng+equ')\n",
    "    return text"
   ]
  },
  {
   "cell_type": "code",
   "execution_count": 5,
   "metadata": {},
   "outputs": [
    {
     "data": {
      "text/plain": [
       "<matplotlib.image.AxesImage at 0x201d1d5cb80>"
      ]
     },
     "execution_count": 5,
     "metadata": {},
     "output_type": "execute_result"
    },
    {
     "data": {
      "image/png": "[encoded data removed]",
      "text/plain": [
       "<Figure size 640x480 with 1 Axes>"
      ]
     },
     "metadata": {},
     "output_type": "display_data"
    }
   ],
   "source": [
    "img = cv.imread('img22.png')\n",
    "plt.imshow(img, 'gray', vmin=0, vmax=255)"
   ]
  },
  {
   "cell_type": "code",
   "execution_count": 6,
   "metadata": {},
   "outputs": [],
   "source": [
    "# get grayscale\n",
    "def get_grayscale(image):\n",
    "    return cv.cvtColor(image, cv.COLOR_BGR2GRAY)"
   ]
  },
  {
   "cell_type": "code",
   "execution_count": 7,
   "metadata": {},
   "outputs": [],
   "source": [
    "# noise removal\n",
    "def remove_noise(image):\n",
    "    return cv.medianBlur(image, 5)"
   ]
  },
  {
   "cell_type": "code",
   "execution_count": 8,
   "metadata": {},
   "outputs": [],
   "source": [
    "# thresholding\n",
    "def thresholding(image):\n",
    "    return cv.threshold(img, 0, 255, cv.THRESH_BINARY + cv.THRESH_OTSU)[1]"
   ]
  },
  {
   "cell_type": "code",
   "execution_count": 9,
   "metadata": {},
   "outputs": [],
   "source": [
    "img = get_grayscale(img)\n",
    "img = thresholding(img)\n",
    "img = remove_noise(img)"
   ]
  },
  {
   "cell_type": "code",
   "execution_count": 10,
   "metadata": {},
   "outputs": [
    {
     "name": "stdout",
     "output_type": "stream",
     "text": [
      "4*2/ 5\n",
      "\n"
     ]
    }
   ],
   "source": [
    "print(ocr_core(img))"
   ]
  },
  {
   "cell_type": "markdown",
   "metadata": {},
   "source": [
    "#### Sem pre-processamento"
   ]
  },
  {
   "cell_type": "code",
   "execution_count": 11,
   "metadata": {},
   "outputs": [],
   "source": [
    "from pytesseract import Output\n",
    "import numpy as np"
   ]
  },
  {
   "cell_type": "code",
   "execution_count": 12,
   "metadata": {},
   "outputs": [],
   "source": [
    "img = cv.imread('img22.png')\n",
    "kernel = np.ones((3, 3), np.uint8)\n",
    "img = cv.erode(img, kernel, iterations=1)"
   ]
  },
  {
   "cell_type": "code",
   "execution_count": 13,
   "metadata": {},
   "outputs": [],
   "source": [
    "height, width, _ = img.shape"
   ]
  },
  {
   "cell_type": "code",
   "execution_count": 14,
   "metadata": {},
   "outputs": [],
   "source": [
    "#myconfig = r\"--psm 11 --oem 3\"\n",
    "#myconfig = r\"--psm 6\"\n",
    "myconfig = r\"--psm 11 --oem 3\""
   ]
  },
  {
   "cell_type": "code",
   "execution_count": 15,
   "metadata": {},
   "outputs": [],
   "source": [
    "boxes = pytesseract.image_to_boxes(img, lang='eng+equ', config=myconfig)"
   ]
  },
  {
   "cell_type": "code",
   "execution_count": 16,
   "metadata": {},
   "outputs": [
    {
     "data": {
      "text/plain": [
       "'4 422 241 474 314 0\\n* 500 282 535 314 0\\n2 564 241 614 315 0\\n/ 648 239 786 314 0\\n5 712 212 784 319 0\\n'"
      ]
     },
     "execution_count": 16,
     "metadata": {},
     "output_type": "execute_result"
    }
   ],
   "source": [
    "boxes"
   ]
  },
  {
   "cell_type": "code",
   "execution_count": 17,
   "metadata": {},
   "outputs": [],
   "source": [
    "data = pytesseract.image_to_data(img, lang='eng+equ', config=myconfig, output_type=Output.DICT)"
   ]
  },
  {
   "cell_type": "code",
   "execution_count": 18,
   "metadata": {},
   "outputs": [
    {
     "data": {
      "text/plain": [
       "{'level': [1, 2, 3, 4, 5, 5],\n",
       " 'page_num': [1, 1, 1, 1, 1, 1],\n",
       " 'block_num': [0, 1, 1, 1, 1, 1],\n",
       " 'par_num': [0, 0, 1, 1, 1, 1],\n",
       " 'line_num': [0, 0, 0, 1, 1, 1],\n",
       " 'word_num': [0, 0, 0, 0, 1, 2],\n",
       " 'left': [0, 422, 422, 422, 422, 712],\n",
       " 'top': [0, 165, 165, 165, 165, 161],\n",
       " 'width': [1102, 364, 364, 364, 364, 72],\n",
       " 'height': [480, 76, 76, 76, 76, 107],\n",
       " 'conf': [-1, -1, -1, -1, 90, 96],\n",
       " 'text': ['', '', '', '', '4*2/', '5']}"
      ]
     },
     "execution_count": 18,
     "metadata": {},
     "output_type": "execute_result"
    }
   ],
   "source": [
    "data"
   ]
  },
  {
   "cell_type": "code",
   "execution_count": 19,
   "metadata": {},
   "outputs": [
    {
     "name": "stdout",
     "output_type": "stream",
     "text": [
      "4*2/ 5\n",
      "\n"
     ]
    }
   ],
   "source": [
    "print(ocr_core(img))"
   ]
  },
  {
   "cell_type": "code",
   "execution_count": 20,
   "metadata": {},
   "outputs": [
    {
     "data": {
      "text/plain": [
       "1.6"
      ]
     },
     "execution_count": 20,
     "metadata": {},
     "output_type": "execute_result"
    }
   ],
   "source": [
    "eval(ocr_core(img))"
   ]
  }
 ],
 "metadata": {
  "kernelspec": {
   "display_name": "Python 3.9.7 ('base')",
   "language": "python",
   "name": "python3"
  },
  "language_info": {
   "codemirror_mode": {
    "name": "ipython",
    "version": 3
   },
   "file_extension": ".py",
   "mimetype": "text/x-python",
   "name": "python",
   "nbconvert_exporter": "python",
   "pygments_lexer": "ipython3",
   "version": "3.9.7"
  },
  "orig_nbformat": 4,
  "vscode": {
   "interpreter": {
    "hash": "4276b2ca754db6a26b7ea634b0dbcdbe1143fb38970c596b41682d2c61fb3dca"
   }
  }
 },
 "nbformat": 4,
 "nbformat_minor": 2
}
